{
  "nbformat": 4,
  "nbformat_minor": 0,
  "metadata": {
    "colab": {
      "name": "linkedinData.ipynb",
      "provenance": []
    },
    "kernelspec": {
      "name": "python3",
      "display_name": "Python 3"
    },
    "language_info": {
      "name": "python"
    }
  },
  "cells": [
    {
      "cell_type": "code",
      "execution_count": 1,
      "metadata": {
        "id": "Cl1lAANvCu-u"
      },
      "outputs": [],
      "source": [
        "import numpy as np\n",
        "import pandas as pd\n",
        "import seaborn as sns\n",
        "import matplotlib.pyplot as plt\n"
      ]
    },
    {
      "cell_type": "code",
      "source": [
        "df=pd.read_excel('company_dataset.xlsx')\n",
        "df.head(5)"
      ],
      "metadata": {
        "colab": {
          "base_uri": "https://localhost:8080/",
          "height": 206
        },
        "id": "NwHVeHWLGPdI",
        "outputId": "e2443030-5f72-49b7-8245-882ec8202c3e"
      },
      "execution_count": 2,
      "outputs": [
        {
          "output_type": "execute_result",
          "data": {
            "text/html": [
              "\n",
              "  <div id=\"df-02be62cb-7152-4506-94d0-2378df4b5486\">\n",
              "    <div class=\"colab-df-container\">\n",
              "      <div>\n",
              "<style scoped>\n",
              "    .dataframe tbody tr th:only-of-type {\n",
              "        vertical-align: middle;\n",
              "    }\n",
              "\n",
              "    .dataframe tbody tr th {\n",
              "        vertical-align: top;\n",
              "    }\n",
              "\n",
              "    .dataframe thead th {\n",
              "        text-align: right;\n",
              "    }\n",
              "</style>\n",
              "<table border=\"1\" class=\"dataframe\">\n",
              "  <thead>\n",
              "    <tr style=\"text-align: right;\">\n",
              "      <th></th>\n",
              "      <th>Company Name</th>\n",
              "      <th>Job Title</th>\n",
              "      <th>Experience</th>\n",
              "      <th>Job Poste Date</th>\n",
              "      <th>Location</th>\n",
              "      <th>Company Specialization</th>\n",
              "    </tr>\n",
              "  </thead>\n",
              "  <tbody>\n",
              "    <tr>\n",
              "      <th>0</th>\n",
              "      <td>olympus manegment consultency service</td>\n",
              "      <td>software engineer</td>\n",
              "      <td>entry level</td>\n",
              "      <td>14/2/2022</td>\n",
              "      <td>chandigarh</td>\n",
              "      <td>human resources</td>\n",
              "    </tr>\n",
              "    <tr>\n",
              "      <th>1</th>\n",
              "      <td>recruiting india</td>\n",
              "      <td>.net developer</td>\n",
              "      <td>entry level</td>\n",
              "      <td>14/2/2022</td>\n",
              "      <td>kerala</td>\n",
              "      <td>staffig</td>\n",
              "    </tr>\n",
              "    <tr>\n",
              "      <th>2</th>\n",
              "      <td>telspiel</td>\n",
              "      <td>backend developer</td>\n",
              "      <td>entry level</td>\n",
              "      <td>14/2/2022</td>\n",
              "      <td>noida</td>\n",
              "      <td>telecommunication</td>\n",
              "    </tr>\n",
              "    <tr>\n",
              "      <th>3</th>\n",
              "      <td>a2z youthsolution</td>\n",
              "      <td>web developer</td>\n",
              "      <td>entry level</td>\n",
              "      <td>14/2/2022</td>\n",
              "      <td>delhi</td>\n",
              "      <td>web development</td>\n",
              "    </tr>\n",
              "    <tr>\n",
              "      <th>4</th>\n",
              "      <td>ncr corporation</td>\n",
              "      <td>c++ developer</td>\n",
              "      <td>entry level</td>\n",
              "      <td>14/2/2022</td>\n",
              "      <td>hyderabad</td>\n",
              "      <td>banking</td>\n",
              "    </tr>\n",
              "  </tbody>\n",
              "</table>\n",
              "</div>\n",
              "      <button class=\"colab-df-convert\" onclick=\"convertToInteractive('df-02be62cb-7152-4506-94d0-2378df4b5486')\"\n",
              "              title=\"Convert this dataframe to an interactive table.\"\n",
              "              style=\"display:none;\">\n",
              "        \n",
              "  <svg xmlns=\"http://www.w3.org/2000/svg\" height=\"24px\"viewBox=\"0 0 24 24\"\n",
              "       width=\"24px\">\n",
              "    <path d=\"M0 0h24v24H0V0z\" fill=\"none\"/>\n",
              "    <path d=\"M18.56 5.44l.94 2.06.94-2.06 2.06-.94-2.06-.94-.94-2.06-.94 2.06-2.06.94zm-11 1L8.5 8.5l.94-2.06 2.06-.94-2.06-.94L8.5 2.5l-.94 2.06-2.06.94zm10 10l.94 2.06.94-2.06 2.06-.94-2.06-.94-.94-2.06-.94 2.06-2.06.94z\"/><path d=\"M17.41 7.96l-1.37-1.37c-.4-.4-.92-.59-1.43-.59-.52 0-1.04.2-1.43.59L10.3 9.45l-7.72 7.72c-.78.78-.78 2.05 0 2.83L4 21.41c.39.39.9.59 1.41.59.51 0 1.02-.2 1.41-.59l7.78-7.78 2.81-2.81c.8-.78.8-2.07 0-2.86zM5.41 20L4 18.59l7.72-7.72 1.47 1.35L5.41 20z\"/>\n",
              "  </svg>\n",
              "      </button>\n",
              "      \n",
              "  <style>\n",
              "    .colab-df-container {\n",
              "      display:flex;\n",
              "      flex-wrap:wrap;\n",
              "      gap: 12px;\n",
              "    }\n",
              "\n",
              "    .colab-df-convert {\n",
              "      background-color: #E8F0FE;\n",
              "      border: none;\n",
              "      border-radius: 50%;\n",
              "      cursor: pointer;\n",
              "      display: none;\n",
              "      fill: #1967D2;\n",
              "      height: 32px;\n",
              "      padding: 0 0 0 0;\n",
              "      width: 32px;\n",
              "    }\n",
              "\n",
              "    .colab-df-convert:hover {\n",
              "      background-color: #E2EBFA;\n",
              "      box-shadow: 0px 1px 2px rgba(60, 64, 67, 0.3), 0px 1px 3px 1px rgba(60, 64, 67, 0.15);\n",
              "      fill: #174EA6;\n",
              "    }\n",
              "\n",
              "    [theme=dark] .colab-df-convert {\n",
              "      background-color: #3B4455;\n",
              "      fill: #D2E3FC;\n",
              "    }\n",
              "\n",
              "    [theme=dark] .colab-df-convert:hover {\n",
              "      background-color: #434B5C;\n",
              "      box-shadow: 0px 1px 3px 1px rgba(0, 0, 0, 0.15);\n",
              "      filter: drop-shadow(0px 1px 2px rgba(0, 0, 0, 0.3));\n",
              "      fill: #FFFFFF;\n",
              "    }\n",
              "  </style>\n",
              "\n",
              "      <script>\n",
              "        const buttonEl =\n",
              "          document.querySelector('#df-02be62cb-7152-4506-94d0-2378df4b5486 button.colab-df-convert');\n",
              "        buttonEl.style.display =\n",
              "          google.colab.kernel.accessAllowed ? 'block' : 'none';\n",
              "\n",
              "        async function convertToInteractive(key) {\n",
              "          const element = document.querySelector('#df-02be62cb-7152-4506-94d0-2378df4b5486');\n",
              "          const dataTable =\n",
              "            await google.colab.kernel.invokeFunction('convertToInteractive',\n",
              "                                                     [key], {});\n",
              "          if (!dataTable) return;\n",
              "\n",
              "          const docLinkHtml = 'Like what you see? Visit the ' +\n",
              "            '<a target=\"_blank\" href=https://colab.research.google.com/notebooks/data_table.ipynb>data table notebook</a>'\n",
              "            + ' to learn more about interactive tables.';\n",
              "          element.innerHTML = '';\n",
              "          dataTable['output_type'] = 'display_data';\n",
              "          await google.colab.output.renderOutput(dataTable, element);\n",
              "          const docLink = document.createElement('div');\n",
              "          docLink.innerHTML = docLinkHtml;\n",
              "          element.appendChild(docLink);\n",
              "        }\n",
              "      </script>\n",
              "    </div>\n",
              "  </div>\n",
              "  "
            ],
            "text/plain": [
              "                            Company Name          Job Title   Experience  \\\n",
              "0  olympus manegment consultency service  software engineer  entry level   \n",
              "1                       recruiting india     .net developer  entry level   \n",
              "2                               telspiel  backend developer  entry level   \n",
              "3                      a2z youthsolution      web developer  entry level   \n",
              "4                        ncr corporation      c++ developer  entry level   \n",
              "\n",
              "  Job Poste Date    Location Company Specialization  \n",
              "0      14/2/2022  chandigarh        human resources  \n",
              "1      14/2/2022      kerala                staffig  \n",
              "2      14/2/2022       noida      telecommunication  \n",
              "3      14/2/2022       delhi        web development  \n",
              "4      14/2/2022   hyderabad                banking  "
            ]
          },
          "metadata": {},
          "execution_count": 2
        }
      ]
    },
    {
      "cell_type": "code",
      "source": [
        "df.shape"
      ],
      "metadata": {
        "colab": {
          "base_uri": "https://localhost:8080/"
        },
        "id": "oVF4DlRHJy2n",
        "outputId": "a64a096f-6be2-4e36-e44d-3c082970f7c3"
      },
      "execution_count": 3,
      "outputs": [
        {
          "output_type": "execute_result",
          "data": {
            "text/plain": [
              "(129, 6)"
            ]
          },
          "metadata": {},
          "execution_count": 3
        }
      ]
    },
    {
      "cell_type": "code",
      "source": [
        "df.info()"
      ],
      "metadata": {
        "colab": {
          "base_uri": "https://localhost:8080/"
        },
        "id": "pVabGlR8JkYy",
        "outputId": "81b34bda-9a6d-4e77-e089-c0beda43051f"
      },
      "execution_count": 4,
      "outputs": [
        {
          "output_type": "stream",
          "name": "stdout",
          "text": [
            "<class 'pandas.core.frame.DataFrame'>\n",
            "RangeIndex: 129 entries, 0 to 128\n",
            "Data columns (total 6 columns):\n",
            " #   Column                  Non-Null Count  Dtype \n",
            "---  ------                  --------------  ----- \n",
            " 0   Company Name            129 non-null    object\n",
            " 1   Job Title               129 non-null    object\n",
            " 2   Experience              129 non-null    object\n",
            " 3   Job Poste Date          129 non-null    object\n",
            " 4   Location                129 non-null    object\n",
            " 5   Company Specialization  129 non-null    object\n",
            "dtypes: object(6)\n",
            "memory usage: 6.2+ KB\n"
          ]
        }
      ]
    },
    {
      "cell_type": "code",
      "source": [
        "df.drop_duplicates(subset=None, keep='first', inplace=False, ignore_index=False)"
      ],
      "metadata": {
        "colab": {
          "base_uri": "https://localhost:8080/",
          "height": 424
        },
        "id": "zWQZAJBpPLZ6",
        "outputId": "33479511-18c3-4c4c-9e0f-d1ed91c3141d"
      },
      "execution_count": 5,
      "outputs": [
        {
          "output_type": "execute_result",
          "data": {
            "text/html": [
              "\n",
              "  <div id=\"df-4f8f53f4-09c8-48cf-a07c-c7ddf44f9b57\">\n",
              "    <div class=\"colab-df-container\">\n",
              "      <div>\n",
              "<style scoped>\n",
              "    .dataframe tbody tr th:only-of-type {\n",
              "        vertical-align: middle;\n",
              "    }\n",
              "\n",
              "    .dataframe tbody tr th {\n",
              "        vertical-align: top;\n",
              "    }\n",
              "\n",
              "    .dataframe thead th {\n",
              "        text-align: right;\n",
              "    }\n",
              "</style>\n",
              "<table border=\"1\" class=\"dataframe\">\n",
              "  <thead>\n",
              "    <tr style=\"text-align: right;\">\n",
              "      <th></th>\n",
              "      <th>Company Name</th>\n",
              "      <th>Job Title</th>\n",
              "      <th>Experience</th>\n",
              "      <th>Job Poste Date</th>\n",
              "      <th>Location</th>\n",
              "      <th>Company Specialization</th>\n",
              "    </tr>\n",
              "  </thead>\n",
              "  <tbody>\n",
              "    <tr>\n",
              "      <th>0</th>\n",
              "      <td>olympus manegment consultency service</td>\n",
              "      <td>software engineer</td>\n",
              "      <td>entry level</td>\n",
              "      <td>14/2/2022</td>\n",
              "      <td>chandigarh</td>\n",
              "      <td>human resources</td>\n",
              "    </tr>\n",
              "    <tr>\n",
              "      <th>1</th>\n",
              "      <td>recruiting india</td>\n",
              "      <td>.net developer</td>\n",
              "      <td>entry level</td>\n",
              "      <td>14/2/2022</td>\n",
              "      <td>kerala</td>\n",
              "      <td>staffig</td>\n",
              "    </tr>\n",
              "    <tr>\n",
              "      <th>2</th>\n",
              "      <td>telspiel</td>\n",
              "      <td>backend developer</td>\n",
              "      <td>entry level</td>\n",
              "      <td>14/2/2022</td>\n",
              "      <td>noida</td>\n",
              "      <td>telecommunication</td>\n",
              "    </tr>\n",
              "    <tr>\n",
              "      <th>3</th>\n",
              "      <td>a2z youthsolution</td>\n",
              "      <td>web developer</td>\n",
              "      <td>entry level</td>\n",
              "      <td>14/2/2022</td>\n",
              "      <td>delhi</td>\n",
              "      <td>web development</td>\n",
              "    </tr>\n",
              "    <tr>\n",
              "      <th>4</th>\n",
              "      <td>ncr corporation</td>\n",
              "      <td>c++ developer</td>\n",
              "      <td>entry level</td>\n",
              "      <td>14/2/2022</td>\n",
              "      <td>hyderabad</td>\n",
              "      <td>banking</td>\n",
              "    </tr>\n",
              "    <tr>\n",
              "      <th>...</th>\n",
              "      <td>...</td>\n",
              "      <td>...</td>\n",
              "      <td>...</td>\n",
              "      <td>...</td>\n",
              "      <td>...</td>\n",
              "      <td>...</td>\n",
              "    </tr>\n",
              "    <tr>\n",
              "      <th>124</th>\n",
              "      <td>pratikshat solution</td>\n",
              "      <td>java developr</td>\n",
              "      <td>internship</td>\n",
              "      <td>2022-08-02 00:00:00</td>\n",
              "      <td>noida</td>\n",
              "      <td>mobile app</td>\n",
              "    </tr>\n",
              "    <tr>\n",
              "      <th>125</th>\n",
              "      <td>flairminds</td>\n",
              "      <td>web developer</td>\n",
              "      <td>internship</td>\n",
              "      <td>2022-08-02 00:00:00</td>\n",
              "      <td>pune</td>\n",
              "      <td>web development</td>\n",
              "    </tr>\n",
              "    <tr>\n",
              "      <th>126</th>\n",
              "      <td>ms global</td>\n",
              "      <td>web developer</td>\n",
              "      <td>internship</td>\n",
              "      <td>2022-08-02 00:00:00</td>\n",
              "      <td>delhi</td>\n",
              "      <td>web development</td>\n",
              "    </tr>\n",
              "    <tr>\n",
              "      <th>127</th>\n",
              "      <td>binary numbers</td>\n",
              "      <td>android</td>\n",
              "      <td>internship</td>\n",
              "      <td>2022-08-02 00:00:00</td>\n",
              "      <td>mumbai</td>\n",
              "      <td>mobile app</td>\n",
              "    </tr>\n",
              "    <tr>\n",
              "      <th>128</th>\n",
              "      <td>kashware</td>\n",
              "      <td>web developer</td>\n",
              "      <td>internship</td>\n",
              "      <td>2022-08-02 00:00:00</td>\n",
              "      <td>haryana</td>\n",
              "      <td>web development</td>\n",
              "    </tr>\n",
              "  </tbody>\n",
              "</table>\n",
              "<p>129 rows × 6 columns</p>\n",
              "</div>\n",
              "      <button class=\"colab-df-convert\" onclick=\"convertToInteractive('df-4f8f53f4-09c8-48cf-a07c-c7ddf44f9b57')\"\n",
              "              title=\"Convert this dataframe to an interactive table.\"\n",
              "              style=\"display:none;\">\n",
              "        \n",
              "  <svg xmlns=\"http://www.w3.org/2000/svg\" height=\"24px\"viewBox=\"0 0 24 24\"\n",
              "       width=\"24px\">\n",
              "    <path d=\"M0 0h24v24H0V0z\" fill=\"none\"/>\n",
              "    <path d=\"M18.56 5.44l.94 2.06.94-2.06 2.06-.94-2.06-.94-.94-2.06-.94 2.06-2.06.94zm-11 1L8.5 8.5l.94-2.06 2.06-.94-2.06-.94L8.5 2.5l-.94 2.06-2.06.94zm10 10l.94 2.06.94-2.06 2.06-.94-2.06-.94-.94-2.06-.94 2.06-2.06.94z\"/><path d=\"M17.41 7.96l-1.37-1.37c-.4-.4-.92-.59-1.43-.59-.52 0-1.04.2-1.43.59L10.3 9.45l-7.72 7.72c-.78.78-.78 2.05 0 2.83L4 21.41c.39.39.9.59 1.41.59.51 0 1.02-.2 1.41-.59l7.78-7.78 2.81-2.81c.8-.78.8-2.07 0-2.86zM5.41 20L4 18.59l7.72-7.72 1.47 1.35L5.41 20z\"/>\n",
              "  </svg>\n",
              "      </button>\n",
              "      \n",
              "  <style>\n",
              "    .colab-df-container {\n",
              "      display:flex;\n",
              "      flex-wrap:wrap;\n",
              "      gap: 12px;\n",
              "    }\n",
              "\n",
              "    .colab-df-convert {\n",
              "      background-color: #E8F0FE;\n",
              "      border: none;\n",
              "      border-radius: 50%;\n",
              "      cursor: pointer;\n",
              "      display: none;\n",
              "      fill: #1967D2;\n",
              "      height: 32px;\n",
              "      padding: 0 0 0 0;\n",
              "      width: 32px;\n",
              "    }\n",
              "\n",
              "    .colab-df-convert:hover {\n",
              "      background-color: #E2EBFA;\n",
              "      box-shadow: 0px 1px 2px rgba(60, 64, 67, 0.3), 0px 1px 3px 1px rgba(60, 64, 67, 0.15);\n",
              "      fill: #174EA6;\n",
              "    }\n",
              "\n",
              "    [theme=dark] .colab-df-convert {\n",
              "      background-color: #3B4455;\n",
              "      fill: #D2E3FC;\n",
              "    }\n",
              "\n",
              "    [theme=dark] .colab-df-convert:hover {\n",
              "      background-color: #434B5C;\n",
              "      box-shadow: 0px 1px 3px 1px rgba(0, 0, 0, 0.15);\n",
              "      filter: drop-shadow(0px 1px 2px rgba(0, 0, 0, 0.3));\n",
              "      fill: #FFFFFF;\n",
              "    }\n",
              "  </style>\n",
              "\n",
              "      <script>\n",
              "        const buttonEl =\n",
              "          document.querySelector('#df-4f8f53f4-09c8-48cf-a07c-c7ddf44f9b57 button.colab-df-convert');\n",
              "        buttonEl.style.display =\n",
              "          google.colab.kernel.accessAllowed ? 'block' : 'none';\n",
              "\n",
              "        async function convertToInteractive(key) {\n",
              "          const element = document.querySelector('#df-4f8f53f4-09c8-48cf-a07c-c7ddf44f9b57');\n",
              "          const dataTable =\n",
              "            await google.colab.kernel.invokeFunction('convertToInteractive',\n",
              "                                                     [key], {});\n",
              "          if (!dataTable) return;\n",
              "\n",
              "          const docLinkHtml = 'Like what you see? Visit the ' +\n",
              "            '<a target=\"_blank\" href=https://colab.research.google.com/notebooks/data_table.ipynb>data table notebook</a>'\n",
              "            + ' to learn more about interactive tables.';\n",
              "          element.innerHTML = '';\n",
              "          dataTable['output_type'] = 'display_data';\n",
              "          await google.colab.output.renderOutput(dataTable, element);\n",
              "          const docLink = document.createElement('div');\n",
              "          docLink.innerHTML = docLinkHtml;\n",
              "          element.appendChild(docLink);\n",
              "        }\n",
              "      </script>\n",
              "    </div>\n",
              "  </div>\n",
              "  "
            ],
            "text/plain": [
              "                              Company Name          Job Title   Experience  \\\n",
              "0    olympus manegment consultency service  software engineer  entry level   \n",
              "1                         recruiting india     .net developer  entry level   \n",
              "2                                 telspiel  backend developer  entry level   \n",
              "3                        a2z youthsolution      web developer  entry level   \n",
              "4                          ncr corporation      c++ developer  entry level   \n",
              "..                                     ...                ...          ...   \n",
              "124                    pratikshat solution      java developr   internship   \n",
              "125                             flairminds      web developer   internship   \n",
              "126                              ms global      web developer   internship   \n",
              "127                         binary numbers            android   internship   \n",
              "128                               kashware      web developer   internship   \n",
              "\n",
              "          Job Poste Date    Location Company Specialization  \n",
              "0              14/2/2022  chandigarh        human resources  \n",
              "1              14/2/2022      kerala                staffig  \n",
              "2              14/2/2022       noida      telecommunication  \n",
              "3              14/2/2022       delhi        web development  \n",
              "4              14/2/2022   hyderabad                banking  \n",
              "..                   ...         ...                    ...  \n",
              "124  2022-08-02 00:00:00       noida             mobile app  \n",
              "125  2022-08-02 00:00:00        pune        web development  \n",
              "126  2022-08-02 00:00:00       delhi        web development  \n",
              "127  2022-08-02 00:00:00      mumbai             mobile app  \n",
              "128  2022-08-02 00:00:00     haryana        web development  \n",
              "\n",
              "[129 rows x 6 columns]"
            ]
          },
          "metadata": {},
          "execution_count": 5
        }
      ]
    },
    {
      "cell_type": "code",
      "source": [
        "df.shape"
      ],
      "metadata": {
        "id": "YeVHfy-1nMgZ",
        "colab": {
          "base_uri": "https://localhost:8080/"
        },
        "outputId": "3242a84a-f6d4-4f7a-d414-c8ddfcf97867"
      },
      "execution_count": 6,
      "outputs": [
        {
          "output_type": "execute_result",
          "data": {
            "text/plain": [
              "(129, 6)"
            ]
          },
          "metadata": {},
          "execution_count": 6
        }
      ]
    },
    {
      "cell_type": "code",
      "source": [
        "df.describe()"
      ],
      "metadata": {
        "id": "6oZjU__NNZzJ",
        "colab": {
          "base_uri": "https://localhost:8080/",
          "height": 175
        },
        "outputId": "82040ef1-4882-4b14-cb3c-a3d55c229968"
      },
      "execution_count": 7,
      "outputs": [
        {
          "output_type": "execute_result",
          "data": {
            "text/html": [
              "\n",
              "  <div id=\"df-e765c75e-7672-42e1-9d92-2f02b25e9ed1\">\n",
              "    <div class=\"colab-df-container\">\n",
              "      <div>\n",
              "<style scoped>\n",
              "    .dataframe tbody tr th:only-of-type {\n",
              "        vertical-align: middle;\n",
              "    }\n",
              "\n",
              "    .dataframe tbody tr th {\n",
              "        vertical-align: top;\n",
              "    }\n",
              "\n",
              "    .dataframe thead th {\n",
              "        text-align: right;\n",
              "    }\n",
              "</style>\n",
              "<table border=\"1\" class=\"dataframe\">\n",
              "  <thead>\n",
              "    <tr style=\"text-align: right;\">\n",
              "      <th></th>\n",
              "      <th>Company Name</th>\n",
              "      <th>Job Title</th>\n",
              "      <th>Experience</th>\n",
              "      <th>Job Poste Date</th>\n",
              "      <th>Location</th>\n",
              "      <th>Company Specialization</th>\n",
              "    </tr>\n",
              "  </thead>\n",
              "  <tbody>\n",
              "    <tr>\n",
              "      <th>count</th>\n",
              "      <td>129</td>\n",
              "      <td>129</td>\n",
              "      <td>129</td>\n",
              "      <td>129</td>\n",
              "      <td>129</td>\n",
              "      <td>129</td>\n",
              "    </tr>\n",
              "    <tr>\n",
              "      <th>unique</th>\n",
              "      <td>85</td>\n",
              "      <td>39</td>\n",
              "      <td>4</td>\n",
              "      <td>11</td>\n",
              "      <td>17</td>\n",
              "      <td>32</td>\n",
              "    </tr>\n",
              "    <tr>\n",
              "      <th>top</th>\n",
              "      <td>barclays</td>\n",
              "      <td>software engineer</td>\n",
              "      <td>entry level</td>\n",
              "      <td>14/2/2022</td>\n",
              "      <td>bengaluru</td>\n",
              "      <td>banking</td>\n",
              "    </tr>\n",
              "    <tr>\n",
              "      <th>freq</th>\n",
              "      <td>14</td>\n",
              "      <td>18</td>\n",
              "      <td>39</td>\n",
              "      <td>62</td>\n",
              "      <td>38</td>\n",
              "      <td>19</td>\n",
              "    </tr>\n",
              "  </tbody>\n",
              "</table>\n",
              "</div>\n",
              "      <button class=\"colab-df-convert\" onclick=\"convertToInteractive('df-e765c75e-7672-42e1-9d92-2f02b25e9ed1')\"\n",
              "              title=\"Convert this dataframe to an interactive table.\"\n",
              "              style=\"display:none;\">\n",
              "        \n",
              "  <svg xmlns=\"http://www.w3.org/2000/svg\" height=\"24px\"viewBox=\"0 0 24 24\"\n",
              "       width=\"24px\">\n",
              "    <path d=\"M0 0h24v24H0V0z\" fill=\"none\"/>\n",
              "    <path d=\"M18.56 5.44l.94 2.06.94-2.06 2.06-.94-2.06-.94-.94-2.06-.94 2.06-2.06.94zm-11 1L8.5 8.5l.94-2.06 2.06-.94-2.06-.94L8.5 2.5l-.94 2.06-2.06.94zm10 10l.94 2.06.94-2.06 2.06-.94-2.06-.94-.94-2.06-.94 2.06-2.06.94z\"/><path d=\"M17.41 7.96l-1.37-1.37c-.4-.4-.92-.59-1.43-.59-.52 0-1.04.2-1.43.59L10.3 9.45l-7.72 7.72c-.78.78-.78 2.05 0 2.83L4 21.41c.39.39.9.59 1.41.59.51 0 1.02-.2 1.41-.59l7.78-7.78 2.81-2.81c.8-.78.8-2.07 0-2.86zM5.41 20L4 18.59l7.72-7.72 1.47 1.35L5.41 20z\"/>\n",
              "  </svg>\n",
              "      </button>\n",
              "      \n",
              "  <style>\n",
              "    .colab-df-container {\n",
              "      display:flex;\n",
              "      flex-wrap:wrap;\n",
              "      gap: 12px;\n",
              "    }\n",
              "\n",
              "    .colab-df-convert {\n",
              "      background-color: #E8F0FE;\n",
              "      border: none;\n",
              "      border-radius: 50%;\n",
              "      cursor: pointer;\n",
              "      display: none;\n",
              "      fill: #1967D2;\n",
              "      height: 32px;\n",
              "      padding: 0 0 0 0;\n",
              "      width: 32px;\n",
              "    }\n",
              "\n",
              "    .colab-df-convert:hover {\n",
              "      background-color: #E2EBFA;\n",
              "      box-shadow: 0px 1px 2px rgba(60, 64, 67, 0.3), 0px 1px 3px 1px rgba(60, 64, 67, 0.15);\n",
              "      fill: #174EA6;\n",
              "    }\n",
              "\n",
              "    [theme=dark] .colab-df-convert {\n",
              "      background-color: #3B4455;\n",
              "      fill: #D2E3FC;\n",
              "    }\n",
              "\n",
              "    [theme=dark] .colab-df-convert:hover {\n",
              "      background-color: #434B5C;\n",
              "      box-shadow: 0px 1px 3px 1px rgba(0, 0, 0, 0.15);\n",
              "      filter: drop-shadow(0px 1px 2px rgba(0, 0, 0, 0.3));\n",
              "      fill: #FFFFFF;\n",
              "    }\n",
              "  </style>\n",
              "\n",
              "      <script>\n",
              "        const buttonEl =\n",
              "          document.querySelector('#df-e765c75e-7672-42e1-9d92-2f02b25e9ed1 button.colab-df-convert');\n",
              "        buttonEl.style.display =\n",
              "          google.colab.kernel.accessAllowed ? 'block' : 'none';\n",
              "\n",
              "        async function convertToInteractive(key) {\n",
              "          const element = document.querySelector('#df-e765c75e-7672-42e1-9d92-2f02b25e9ed1');\n",
              "          const dataTable =\n",
              "            await google.colab.kernel.invokeFunction('convertToInteractive',\n",
              "                                                     [key], {});\n",
              "          if (!dataTable) return;\n",
              "\n",
              "          const docLinkHtml = 'Like what you see? Visit the ' +\n",
              "            '<a target=\"_blank\" href=https://colab.research.google.com/notebooks/data_table.ipynb>data table notebook</a>'\n",
              "            + ' to learn more about interactive tables.';\n",
              "          element.innerHTML = '';\n",
              "          dataTable['output_type'] = 'display_data';\n",
              "          await google.colab.output.renderOutput(dataTable, element);\n",
              "          const docLink = document.createElement('div');\n",
              "          docLink.innerHTML = docLinkHtml;\n",
              "          element.appendChild(docLink);\n",
              "        }\n",
              "      </script>\n",
              "    </div>\n",
              "  </div>\n",
              "  "
            ],
            "text/plain": [
              "       Company Name          Job Title   Experience Job Poste Date   Location  \\\n",
              "count           129                129          129            129        129   \n",
              "unique           85                 39            4             11         17   \n",
              "top        barclays  software engineer  entry level      14/2/2022  bengaluru   \n",
              "freq             14                 18           39             62         38   \n",
              "\n",
              "       Company Specialization  \n",
              "count                     129  \n",
              "unique                     32  \n",
              "top                   banking  \n",
              "freq                       19  "
            ]
          },
          "metadata": {},
          "execution_count": 7
        }
      ]
    },
    {
      "cell_type": "code",
      "source": [
        ""
      ],
      "metadata": {
        "id": "IC1EPLutYb7O"
      },
      "execution_count": 7,
      "outputs": []
    },
    {
      "cell_type": "code",
      "source": [
        "Company_Name=df['Company Name'].value_counts()\n",
        "Company_Name.head(10)"
      ],
      "metadata": {
        "colab": {
          "base_uri": "https://localhost:8080/"
        },
        "id": "Pxhjy86ytxkq",
        "outputId": "921312f0-3741-4c15-f863-57c8524f4627"
      },
      "execution_count": 8,
      "outputs": [
        {
          "output_type": "execute_result",
          "data": {
            "text/plain": [
              "barclays                 14\n",
              "crossover for work        7\n",
              "oracle                    4\n",
              "yash technologies         4\n",
              "tcs                       4\n",
              "zscaler                   3\n",
              "amazon                    3\n",
              "netcracker technology     3\n",
              "genpact                   3\n",
              "the playbook              2\n",
              "Name: Company Name, dtype: int64"
            ]
          },
          "metadata": {},
          "execution_count": 8
        }
      ]
    },
    {
      "cell_type": "code",
      "source": [
        "Job_Title\t=df['Job Title'].value_counts()\n",
        "Job_Title.head(10)"
      ],
      "metadata": {
        "colab": {
          "base_uri": "https://localhost:8080/"
        },
        "id": "kKxRkQ2T7DHE",
        "outputId": "780ba681-1d55-4b26-82b5-4c0eee26507a"
      },
      "execution_count": 9,
      "outputs": [
        {
          "output_type": "execute_result",
          "data": {
            "text/plain": [
              "software engineer      18\n",
              "java developr          12\n",
              "web developer          11\n",
              "test engineer          10\n",
              "python developer        7\n",
              "fullstack developer     7\n",
              ".net developer          6\n",
              "backend developer       6\n",
              "data engineer           5\n",
              "business analyst        4\n",
              "Name: Job Title, dtype: int64"
            ]
          },
          "metadata": {},
          "execution_count": 9
        }
      ]
    },
    {
      "cell_type": "code",
      "source": [
        "Company_Specialization=df['Company Specialization'].value_counts()\n",
        "Company_Specialization.head(10)"
      ],
      "metadata": {
        "colab": {
          "base_uri": "https://localhost:8080/"
        },
        "id": "Mg_vG_ICxAX6",
        "outputId": "fe618f49-790e-48be-d157-becd565599b8"
      },
      "execution_count": 10,
      "outputs": [
        {
          "output_type": "execute_result",
          "data": {
            "text/plain": [
              "banking              19\n",
              "software product     19\n",
              "web development      10\n",
              "mobile app           10\n",
              "telecommunication     6\n",
              "cloud computing       6\n",
              "database              5\n",
              "staffig               4\n",
              "e-commerce            4\n",
              "ai                    4\n",
              "Name: Company Specialization, dtype: int64"
            ]
          },
          "metadata": {},
          "execution_count": 10
        }
      ]
    },
    {
      "cell_type": "markdown",
      "source": [
        "count plot of company name"
      ],
      "metadata": {
        "id": "bhtZBI6oTKGt"
      }
    },
    {
      "cell_type": "code",
      "source": [
        "a=plt.figure(figsize = (160,6))\n",
        "sns.countplot(x = 'Company Name',\n",
        "              data = df,\n",
        "              order = df['Company Name'].value_counts().index)\n"
      ],
      "metadata": {
        "colab": {
          "base_uri": "https://localhost:8080/",
          "height": 425
        },
        "id": "MtynNnFpzXi5",
        "outputId": "0d5b16fe-83ee-4421-8d6c-fc1d2ed0cdff"
      },
      "execution_count": 11,
      "outputs": [
        {
          "output_type": "execute_result",
          "data": {
            "text/plain": [
              "<matplotlib.axes._subplots.AxesSubplot at 0x7f53a8b133d0>"
            ]
          },
          "metadata": {},
          "execution_count": 11
        },
        {
          "output_type": "display_data",
          "data": {
            "image/png": "[encoded data removed]",
            "text/plain": [
              "<Figure size 11520x432 with 1 Axes>"
            ]
          },
          "metadata": {
            "needs_background": "light"
          }
        }
      ]
    },
    {
      "cell_type": "markdown",
      "source": [
        "count plot of company specialization"
      ],
      "metadata": {
        "id": "O9rOo4i2TCug"
      }
    },
    {
      "cell_type": "code",
      "source": [
        "plt.figure(figsize = (60,7))\n",
        "sns.countplot(x = 'Company Specialization',\n",
        "              data = df,\n",
        "              order = df['Company Specialization'].value_counts().index)"
      ],
      "metadata": {
        "colab": {
          "base_uri": "https://localhost:8080/",
          "height": 479
        },
        "id": "heC2ptNd2YWz",
        "outputId": "26857ecf-2c55-4537-f46e-920591ed59a0"
      },
      "execution_count": 12,
      "outputs": [
        {
          "output_type": "execute_result",
          "data": {
            "text/plain": [
              "<matplotlib.axes._subplots.AxesSubplot at 0x7f53a8a260d0>"
            ]
          },
          "metadata": {},
          "execution_count": 12
        },
        {
          "output_type": "display_data",
          "data": {
            "image/png": "[encoded data removed]",
            "text/plain": [
              "<Figure size 4320x504 with 1 Axes>"
            ]
          },
          "metadata": {
            "needs_background": "light"
          }
        }
      ]
    },
    {
      "cell_type": "markdown",
      "source": [
        "countplot of job title"
      ],
      "metadata": {
        "id": "yEW6jX2tS7aI"
      }
    },
    {
      "cell_type": "code",
      "source": [
        "b=plt.figure(figsize = (60,7))\n",
        "sns.countplot(x = 'Job Title',\n",
        "              data = df,\n",
        "              order = df['Job Title'].value_counts().index)"
      ],
      "metadata": {
        "colab": {
          "base_uri": "https://localhost:8080/",
          "height": 479
        },
        "id": "JYEpLNVkWsw0",
        "outputId": "21097c1e-4517-4798-ff72-fbcb4b109f3a"
      },
      "execution_count": 13,
      "outputs": [
        {
          "output_type": "execute_result",
          "data": {
            "text/plain": [
              "<matplotlib.axes._subplots.AxesSubplot at 0x7f53a8a8ce90>"
            ]
          },
          "metadata": {},
          "execution_count": 13
        },
        {
          "output_type": "display_data",
          "data": {
            "image/png": "[encoded data removed]",
            "text/plain": [
              "<Figure size 4320x504 with 1 Axes>"
            ]
          },
          "metadata": {
            "needs_background": "light"
          }
        }
      ]
    },
    {
      "cell_type": "markdown",
      "source": [
        "show relationship between job title and company name"
      ],
      "metadata": {
        "id": "fSsmgxjySgCV"
      }
    },
    {
      "cell_type": "code",
      "source": [
        "table = pd.pivot_table(df, index=['Job Title','Company Name'])                  \n",
        "table.head(30)"
      ],
      "metadata": {
        "colab": {
          "base_uri": "https://localhost:8080/",
          "height": 1000
        },
        "id": "v8OyXZ1b1DVZ",
        "outputId": "79d094ce-fda5-46fd-b650-6a44472df372"
      },
      "execution_count": 14,
      "outputs": [
        {
          "output_type": "stream",
          "name": "stderr",
          "text": [
            "/usr/local/lib/python3.7/dist-packages/pandas/core/apply.py:507: FutureWarning: Dropping invalid columns in DataFrameGroupBy.mean is deprecated. In a future version, a TypeError will be raised. Before calling .mean, select only columns which should be valid for the function.\n",
            "  return self._try_aggregate_string_function(obj, f, *self.args, **self.kwargs)\n"
          ]
        },
        {
          "output_type": "execute_result",
          "data": {
            "text/html": [
              "\n",
              "  <div id=\"df-66c0488e-bcca-4134-bfc1-e95df918f1c2\">\n",
              "    <div class=\"colab-df-container\">\n",
              "      <div>\n",
              "<style scoped>\n",
              "    .dataframe tbody tr th:only-of-type {\n",
              "        vertical-align: middle;\n",
              "    }\n",
              "\n",
              "    .dataframe tbody tr th {\n",
              "        vertical-align: top;\n",
              "    }\n",
              "\n",
              "    .dataframe thead th {\n",
              "        text-align: right;\n",
              "    }\n",
              "</style>\n",
              "<table border=\"1\" class=\"dataframe\">\n",
              "  <thead>\n",
              "    <tr style=\"text-align: right;\">\n",
              "      <th></th>\n",
              "      <th></th>\n",
              "    </tr>\n",
              "    <tr>\n",
              "      <th>Job Title</th>\n",
              "      <th>Company Name</th>\n",
              "    </tr>\n",
              "  </thead>\n",
              "  <tbody>\n",
              "    <tr>\n",
              "      <th rowspan=\"6\" valign=\"top\">.net developer</th>\n",
              "      <th>ccs techologies</th>\n",
              "    </tr>\n",
              "    <tr>\n",
              "      <th>crossover for work</th>\n",
              "    </tr>\n",
              "    <tr>\n",
              "      <th>damco solution</th>\n",
              "    </tr>\n",
              "    <tr>\n",
              "      <th>forward</th>\n",
              "    </tr>\n",
              "    <tr>\n",
              "      <th>recruiting india</th>\n",
              "    </tr>\n",
              "    <tr>\n",
              "      <th>softlink global</th>\n",
              "    </tr>\n",
              "    <tr>\n",
              "      <th rowspan=\"2\" valign=\"top\">analyst</th>\n",
              "      <th>amercan express</th>\n",
              "    </tr>\n",
              "    <tr>\n",
              "      <th>iconpic</th>\n",
              "    </tr>\n",
              "    <tr>\n",
              "      <th rowspan=\"3\" valign=\"top\">android</th>\n",
              "      <th>binary numbers</th>\n",
              "    </tr>\n",
              "    <tr>\n",
              "      <th>solutelabs</th>\n",
              "    </tr>\n",
              "    <tr>\n",
              "      <th>the playbook</th>\n",
              "    </tr>\n",
              "    <tr>\n",
              "      <th rowspan=\"2\" valign=\"top\">api</th>\n",
              "      <th>barclays</th>\n",
              "    </tr>\n",
              "    <tr>\n",
              "      <th>zscaler</th>\n",
              "    </tr>\n",
              "    <tr>\n",
              "      <th rowspan=\"3\" valign=\"top\">application developer</th>\n",
              "      <th>barclays</th>\n",
              "    </tr>\n",
              "    <tr>\n",
              "      <th>intel</th>\n",
              "    </tr>\n",
              "    <tr>\n",
              "      <th>plex systems</th>\n",
              "    </tr>\n",
              "    <tr>\n",
              "      <th>applicaton</th>\n",
              "      <th>barclays</th>\n",
              "    </tr>\n",
              "    <tr>\n",
              "      <th>applicaton support</th>\n",
              "      <th>barclays</th>\n",
              "    </tr>\n",
              "    <tr>\n",
              "      <th>asp.net</th>\n",
              "      <th>batish technologies</th>\n",
              "    </tr>\n",
              "    <tr>\n",
              "      <th>automation</th>\n",
              "      <th>barclays</th>\n",
              "    </tr>\n",
              "    <tr>\n",
              "      <th>aws emr</th>\n",
              "      <th>amazon</th>\n",
              "    </tr>\n",
              "    <tr>\n",
              "      <th rowspan=\"6\" valign=\"top\">backend developer</th>\n",
              "      <th>entropik tech</th>\n",
              "    </tr>\n",
              "    <tr>\n",
              "      <th>kwalee</th>\n",
              "    </tr>\n",
              "    <tr>\n",
              "      <th>optimhire</th>\n",
              "    </tr>\n",
              "    <tr>\n",
              "      <th>telspiel</th>\n",
              "    </tr>\n",
              "    <tr>\n",
              "      <th>wego.com</th>\n",
              "    </tr>\n",
              "    <tr>\n",
              "      <th>zscaler</th>\n",
              "    </tr>\n",
              "    <tr>\n",
              "      <th rowspan=\"2\" valign=\"top\">business analyst</th>\n",
              "      <th>barclays</th>\n",
              "    </tr>\n",
              "    <tr>\n",
              "      <th>netcracker technology</th>\n",
              "    </tr>\n",
              "    <tr>\n",
              "      <th>c developer</th>\n",
              "      <th>crossover for work</th>\n",
              "    </tr>\n",
              "  </tbody>\n",
              "</table>\n",
              "</div>\n",
              "      <button class=\"colab-df-convert\" onclick=\"convertToInteractive('df-66c0488e-bcca-4134-bfc1-e95df918f1c2')\"\n",
              "              title=\"Convert this dataframe to an interactive table.\"\n",
              "              style=\"display:none;\">\n",
              "        \n",
              "  <svg xmlns=\"http://www.w3.org/2000/svg\" height=\"24px\"viewBox=\"0 0 24 24\"\n",
              "       width=\"24px\">\n",
              "    <path d=\"M0 0h24v24H0V0z\" fill=\"none\"/>\n",
              "    <path d=\"M18.56 5.44l.94 2.06.94-2.06 2.06-.94-2.06-.94-.94-2.06-.94 2.06-2.06.94zm-11 1L8.5 8.5l.94-2.06 2.06-.94-2.06-.94L8.5 2.5l-.94 2.06-2.06.94zm10 10l.94 2.06.94-2.06 2.06-.94-2.06-.94-.94-2.06-.94 2.06-2.06.94z\"/><path d=\"M17.41 7.96l-1.37-1.37c-.4-.4-.92-.59-1.43-.59-.52 0-1.04.2-1.43.59L10.3 9.45l-7.72 7.72c-.78.78-.78 2.05 0 2.83L4 21.41c.39.39.9.59 1.41.59.51 0 1.02-.2 1.41-.59l7.78-7.78 2.81-2.81c.8-.78.8-2.07 0-2.86zM5.41 20L4 18.59l7.72-7.72 1.47 1.35L5.41 20z\"/>\n",
              "  </svg>\n",
              "      </button>\n",
              "      \n",
              "  <style>\n",
              "    .colab-df-container {\n",
              "      display:flex;\n",
              "      flex-wrap:wrap;\n",
              "      gap: 12px;\n",
              "    }\n",
              "\n",
              "    .colab-df-convert {\n",
              "      background-color: #E8F0FE;\n",
              "      border: none;\n",
              "      border-radius: 50%;\n",
              "      cursor: pointer;\n",
              "      display: none;\n",
              "      fill: #1967D2;\n",
              "      height: 32px;\n",
              "      padding: 0 0 0 0;\n",
              "      width: 32px;\n",
              "    }\n",
              "\n",
              "    .colab-df-convert:hover {\n",
              "      background-color: #E2EBFA;\n",
              "      box-shadow: 0px 1px 2px rgba(60, 64, 67, 0.3), 0px 1px 3px 1px rgba(60, 64, 67, 0.15);\n",
              "      fill: #174EA6;\n",
              "    }\n",
              "\n",
              "    [theme=dark] .colab-df-convert {\n",
              "      background-color: #3B4455;\n",
              "      fill: #D2E3FC;\n",
              "    }\n",
              "\n",
              "    [theme=dark] .colab-df-convert:hover {\n",
              "      background-color: #434B5C;\n",
              "      box-shadow: 0px 1px 3px 1px rgba(0, 0, 0, 0.15);\n",
              "      filter: drop-shadow(0px 1px 2px rgba(0, 0, 0, 0.3));\n",
              "      fill: #FFFFFF;\n",
              "    }\n",
              "  </style>\n",
              "\n",
              "      <script>\n",
              "        const buttonEl =\n",
              "          document.querySelector('#df-66c0488e-bcca-4134-bfc1-e95df918f1c2 button.colab-df-convert');\n",
              "        buttonEl.style.display =\n",
              "          google.colab.kernel.accessAllowed ? 'block' : 'none';\n",
              "\n",
              "        async function convertToInteractive(key) {\n",
              "          const element = document.querySelector('#df-66c0488e-bcca-4134-bfc1-e95df918f1c2');\n",
              "          const dataTable =\n",
              "            await google.colab.kernel.invokeFunction('convertToInteractive',\n",
              "                                                     [key], {});\n",
              "          if (!dataTable) return;\n",
              "\n",
              "          const docLinkHtml = 'Like what you see? Visit the ' +\n",
              "            '<a target=\"_blank\" href=https://colab.research.google.com/notebooks/data_table.ipynb>data table notebook</a>'\n",
              "            + ' to learn more about interactive tables.';\n",
              "          element.innerHTML = '';\n",
              "          dataTable['output_type'] = 'display_data';\n",
              "          await google.colab.output.renderOutput(dataTable, element);\n",
              "          const docLink = document.createElement('div');\n",
              "          docLink.innerHTML = docLinkHtml;\n",
              "          element.appendChild(docLink);\n",
              "        }\n",
              "      </script>\n",
              "    </div>\n",
              "  </div>\n",
              "  "
            ],
            "text/plain": [
              "Empty DataFrame\n",
              "Columns: []\n",
              "Index: [(.net developer, ccs techologies), (.net developer, crossover for work), (.net developer, damco solution), (.net developer, forward), (.net developer, recruiting india), (.net developer, softlink global), (analyst, amercan express), (analyst, iconpic), (android, binary numbers), (android, solutelabs), (android, the playbook), (api, barclays), (api, zscaler), (application developer, barclays), (application developer, intel), (application developer, plex systems), (applicaton, barclays), (applicaton support, barclays), (asp.net, batish technologies), (automation, barclays), (aws emr, amazon), (backend developer, entropik tech), (backend developer, kwalee), (backend developer, optimhire), (backend developer, telspiel), (backend developer, wego.com), (backend developer, zscaler), (business analyst, barclays), (business analyst, netcracker technology), (c developer, crossover for work)]"
            ]
          },
          "metadata": {},
          "execution_count": 14
        }
      ]
    },
    {
      "cell_type": "code",
      "source": [
        "Name_of_company=['6sence',\n",
        " 'a2z youthsolution',\n",
        " 'accenture',\n",
        " 'altoura',\n",
        " 'amazon',\n",
        " 'amdocs',\n",
        " 'amercan express',\n",
        " 'avenir digital',\n",
        " 'bank of america',\n",
        " 'barclays',\n",
        " 'batish technologies',\n",
        " 'binary numbers',\n",
        " 'caratlane',\n",
        " 'ccs techologies',\n",
        " 'cloudologic',\n",
        " 'confidential',\n",
        " 'cossover for work',\n",
        " 'crossover for work',\n",
        " 'csrd group',\n",
        " 'damco solution',\n",
        " 'dcs plus',\n",
        " 'digitalteam india',\n",
        " 'directi',\n",
        " 'entropik tech',\n",
        " 'epicor',\n",
        " 'evolutive eonicslabs',\n",
        " 'experion',\n",
        " 'falconX',\n",
        " 'flairminds',\n",
        " 'flex',\n",
        " 'forward',\n",
        " 'forward ',\n",
        " 'ge helthcare',\n",
        " 'genpact',\n",
        " 'gigboat',\n",
        " 'gitlab',\n",
        " 'groyyo',\n",
        " 'gs1india',\n",
        " 'henotic technologies',\n",
        " 'hitachi vantara',\n",
        " 'iconpic',\n",
        " 'idemia',\n",
        " 'infiraise',\n",
        " 'intel',\n",
        " 'it industry',\n",
        " 'itelasoft',\n",
        " 'ivanti',\n",
        " 'josh talks',\n",
        " 'kashware',\n",
        " 'ketto',\n",
        " 'kwalee',\n",
        " 'mediline',\n",
        " 'midtree',\n",
        " 'molex',\n",
        " 'ms global',\n",
        " 'ncr corporation',\n",
        " 'netcracker technology',\n",
        " 'niit',\n",
        " 'olympus manegment consultency service',\n",
        " 'optimhire',\n",
        " 'optum',\n",
        " 'oracle',\n",
        " 'parak online',\n",
        " 'plex systems',\n",
        " 'pratikshat solution',\n",
        " 'progaurd',\n",
        " 'recruiting india',\n",
        " 'softlink global',\n",
        " 'solutelabs',\n",
        " 'solution cone',\n",
        " 'srs infoway',\n",
        " 'superops.ai',\n",
        " 'tcs ',\n",
        " 'telspiel',\n",
        " 'temenos',\n",
        " 'the playbook',\n",
        " 'vertexplus',\n",
        " 'vertit ',\n",
        " 'wb hotels & resorts',\n",
        " 'wego.com',\n",
        " 'wshup',\n",
        " 'yash technologies',\n",
        " 'zapvid',\n",
        " 'zeitech solution',\n",
        " 'zscaler']\n",
        "\n",
        "Num_of_Jobs=[1,1 ,1,1,3,2,1,1,1,14,1,1,1,1,1,1,7,7,1,1,1,1,1,1,2,1,1,1,1,1,1,1,1,1,3, 1,1,1,1,1,1,1,1,1,1,1,1,2,1,1,1,1,1,1 ,1,1,1,1,2,1,1,4,1,1,1,2,\n",
        "    1,2,1,1,1,1,4,1,1,1,1,1,1,1,1,4,1,1,3]"
      ],
      "metadata": {
        "id": "xmZYkfS7pDqa"
      },
      "execution_count": 15,
      "outputs": []
    },
    {
      "cell_type": "code",
      "source": [
        "len(Name_of_company)"
      ],
      "metadata": {
        "colab": {
          "base_uri": "https://localhost:8080/"
        },
        "id": "pBLtVWJGQRBS",
        "outputId": "46e7aeda-2a78-4f14-a067-00ff131d9acc"
      },
      "execution_count": 16,
      "outputs": [
        {
          "output_type": "execute_result",
          "data": {
            "text/plain": [
              "85"
            ]
          },
          "metadata": {},
          "execution_count": 16
        }
      ]
    },
    {
      "cell_type": "code",
      "source": [
        "len(Num_of_Jobs)"
      ],
      "metadata": {
        "colab": {
          "base_uri": "https://localhost:8080/"
        },
        "id": "u5j3wNBNRIaj",
        "outputId": "19515c97-9cc1-4311-852a-74e4b90e0246"
      },
      "execution_count": 17,
      "outputs": [
        {
          "output_type": "execute_result",
          "data": {
            "text/plain": [
              "85"
            ]
          },
          "metadata": {},
          "execution_count": 17
        }
      ]
    },
    {
      "cell_type": "markdown",
      "source": [
        "visualize relationship between job post and company name"
      ],
      "metadata": {
        "id": "FbrByW1TSPXS"
      }
    },
    {
      "cell_type": "code",
      "source": [
        "b=plt.figure(figsize = (150,6))\n",
        "\n",
        "x = Name_of_company\n",
        "y = Num_of_Jobs\n",
        "\n",
        "plt.bar(x,y)\n",
        "\n",
        "\n",
        "\n",
        "# Add labels and title\n",
        "plt.title(\"Interactive Plot\")\n",
        "plt.xlabel(\"X-axis\")\n",
        "plt.ylabel(\"Y-axis\")\n",
        " \n",
        "plt.show()"
      ],
      "metadata": {
        "colab": {
          "base_uri": "https://localhost:8080/",
          "height": 424
        },
        "id": "vzI1Vy87V0c-",
        "outputId": "b8138340-2294-4644-f01d-94a914fa7cc6"
      },
      "execution_count": 18,
      "outputs": [
        {
          "output_type": "display_data",
          "data": {
            "image/png": "[encoded data removed]",
            "text/plain": [
              "<Figure size 10800x432 with 1 Axes>"
            ]
          },
          "metadata": {
            "needs_background": "light"
          }
        }
      ]
    }
  ]
}